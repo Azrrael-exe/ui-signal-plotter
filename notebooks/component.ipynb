{
 "cells": [
  {
   "cell_type": "code",
   "execution_count": 30,
   "metadata": {},
   "outputs": [],
   "source": [
    "%%capture\n",
    "%load_ext autoreload\n",
    "%autoreload 2"
   ]
  },
  {
   "cell_type": "code",
   "execution_count": 31,
   "metadata": {},
   "outputs": [],
   "source": [
    "import os\n",
    "\n",
    "import warnings\n",
    "from pprint import pprint\n",
    "warnings.filterwarnings('ignore')\n",
    "os.chdir(\"/Users/azrrael/Eafit/ui-signal-plotter\")"
   ]
  },
  {
   "cell_type": "code",
   "execution_count": 32,
   "metadata": {},
   "outputs": [],
   "source": [
    "from src.infrastructure.repositories.memory import MemoryComponentRepository\n",
    "\n",
    "repository = MemoryComponentRepository()"
   ]
  },
  {
   "cell_type": "code",
   "execution_count": 33,
   "metadata": {},
   "outputs": [],
   "source": [
    "from src.application.use_cases import (\n",
    "    create_component_use_case,\n",
    "    ComponentDTO,\n",
    "    RangeDTO,\n",
    "    add_value_to_component_use_case,\n",
    "    get_component_values_use_case,\n",
    "    delete_component_use_case,\n",
    ")\n",
    "\n",
    "component = create_component_use_case(\n",
    "    component=ComponentDTO(\n",
    "        name=\"FAN\",\n",
    "        description=\"Fan controller\",\n",
    "        type=\"actuator\",\n",
    "        unit=\"RPM\",\n",
    "        range=RangeDTO(min=0, max=100, unit=\"RPM\"),\n",
    "    ),\n",
    "    repository=repository,\n",
    ")\n",
    "\n",
    "component = create_component_use_case(\n",
    "    component=ComponentDTO(\n",
    "        name=\"LM35\",\n",
    "        description=\"Temperature sensor\",\n",
    "        type=\"sensor\",\n",
    "        unit=\"C\",\n",
    "        range=RangeDTO(min=-273, max=100, unit=\"C\"),\n",
    "    ),\n",
    "    repository=repository,\n",
    ")"
   ]
  },
  {
   "cell_type": "code",
   "execution_count": 34,
   "metadata": {},
   "outputs": [],
   "source": [
    "values = [10, 20, 30, 40, 50, 60, 70, 80, 90, 100, 1000]"
   ]
  },
  {
   "cell_type": "code",
   "execution_count": 35,
   "metadata": {},
   "outputs": [
    {
     "name": "stdout",
     "output_type": "stream",
     "text": [
      "Invalid value: Value(value=1000, unit=<Unit.RPM: 'RPM'>, timestamp=1743868831656)\n"
     ]
    }
   ],
   "source": [
    "updates = add_value_to_component_use_case(\n",
    "    component_id=0,\n",
    "    values=values,\n",
    "    repository=repository\n",
    ")\n"
   ]
  },
  {
   "cell_type": "code",
   "execution_count": 36,
   "metadata": {},
   "outputs": [
    {
     "data": {
      "text/plain": [
       "[{'value': 10, 'unit': 'RPM', 'timestamp': 1743868831656},\n",
       " {'value': 20, 'unit': 'RPM', 'timestamp': 1743868831656},\n",
       " {'value': 30, 'unit': 'RPM', 'timestamp': 1743868831656},\n",
       " {'value': 40, 'unit': 'RPM', 'timestamp': 1743868831656},\n",
       " {'value': 50, 'unit': 'RPM', 'timestamp': 1743868831656},\n",
       " {'value': 60, 'unit': 'RPM', 'timestamp': 1743868831656},\n",
       " {'value': 70, 'unit': 'RPM', 'timestamp': 1743868831656},\n",
       " {'value': 80, 'unit': 'RPM', 'timestamp': 1743868831656},\n",
       " {'value': 90, 'unit': 'RPM', 'timestamp': 1743868831656},\n",
       " {'value': 100, 'unit': 'RPM', 'timestamp': 1743868831656}]"
      ]
     },
     "execution_count": 36,
     "metadata": {},
     "output_type": "execute_result"
    }
   ],
   "source": [
    "reads = get_component_values_use_case(\n",
    "    component_id=0,\n",
    "    repository=repository\n",
    ")\n",
    "\n",
    "reads"
   ]
  },
  {
   "cell_type": "code",
   "execution_count": 37,
   "metadata": {},
   "outputs": [
    {
     "data": {
      "text/plain": [
       "<src.domain.entities.component.Component at 0x1243ac110>"
      ]
     },
     "execution_count": 37,
     "metadata": {},
     "output_type": "execute_result"
    }
   ],
   "source": [
    "delete_component_use_case(\n",
    "    component_id=1,\n",
    "    repository=repository\n",
    ")\n"
   ]
  },
  {
   "cell_type": "code",
   "execution_count": 38,
   "metadata": {},
   "outputs": [],
   "source": [
    "import requests"
   ]
  },
  {
   "cell_type": "code",
   "execution_count": 39,
   "metadata": {},
   "outputs": [],
   "source": [
    "payload = {\n",
    "    \"name\": \"FAN\",\n",
    "    \"description\": \"Fan controller\",\n",
    "    \"type\": \"actuator\",\n",
    "    \"unit\": \"RPM\",\n",
    "    \"range\": {\n",
    "        \"min\": 0,\n",
    "        \"max\": 100,\n",
    "        \"unit\": \"RPM\"\n",
    "    }\n",
    "}\n",
    "\n",
    "response = requests.post(\n",
    "    \"http://localhost:8000/components\", json=payload\n",
    ")"
   ]
  },
  {
   "cell_type": "code",
   "execution_count": 40,
   "metadata": {},
   "outputs": [
    {
     "data": {
      "text/plain": [
       "{'id': 0,\n",
       " 'name': 'FAN',\n",
       " 'description': 'Fan controller',\n",
       " 'type': 'actuator',\n",
       " 'unit': 'RPM',\n",
       " 'range': {'min': 0.0, 'max': 100.0, 'unit': 'RPM'},\n",
       " 'values': [],\n",
       " 'status': 'offline'}"
      ]
     },
     "execution_count": 40,
     "metadata": {},
     "output_type": "execute_result"
    }
   ],
   "source": [
    "response.json()"
   ]
  },
  {
   "cell_type": "code",
   "execution_count": 41,
   "metadata": {},
   "outputs": [
    {
     "data": {
      "text/plain": [
       "{'updates': 10}"
      ]
     },
     "execution_count": 41,
     "metadata": {},
     "output_type": "execute_result"
    }
   ],
   "source": [
    "values = {\"values\": [10, 20, 30, 40, 50, 60, 70, 80, 90, 100, 1000]}\n",
    "\n",
    "response = requests.put(\n",
    "    \"http://localhost:8000/components/0/values\", json=values\n",
    ")\n",
    "\n",
    "response.json()"
   ]
  },
  {
   "cell_type": "code",
   "execution_count": 42,
   "metadata": {},
   "outputs": [
    {
     "data": {
      "text/plain": [
       "[{'value': 10.0, 'unit': 'RPM'},\n",
       " {'value': 20.0, 'unit': 'RPM'},\n",
       " {'value': 30.0, 'unit': 'RPM'},\n",
       " {'value': 40.0, 'unit': 'RPM'},\n",
       " {'value': 50.0, 'unit': 'RPM'},\n",
       " {'value': 60.0, 'unit': 'RPM'},\n",
       " {'value': 70.0, 'unit': 'RPM'},\n",
       " {'value': 80.0, 'unit': 'RPM'},\n",
       " {'value': 90.0, 'unit': 'RPM'},\n",
       " {'value': 100.0, 'unit': 'RPM'}]"
      ]
     },
     "execution_count": 42,
     "metadata": {},
     "output_type": "execute_result"
    }
   ],
   "source": [
    "response = requests.get(\n",
    "    \"http://localhost:8000/components/0/values\"\n",
    ")\n",
    "\n",
    "response.json()\n",
    "\n"
   ]
  },
  {
   "cell_type": "code",
   "execution_count": 43,
   "metadata": {},
   "outputs": [],
   "source": [
    "response = requests.delete(\n",
    "    \"http://localhost:8000/components/0\"\n",
    ")\n",
    "\n",
    "\n"
   ]
  },
  {
   "cell_type": "code",
   "execution_count": 44,
   "metadata": {},
   "outputs": [
    {
     "data": {
      "text/plain": [
       "{'id': 0,\n",
       " 'name': 'FAN',\n",
       " 'description': 'Fan controller',\n",
       " 'type': 'actuator',\n",
       " 'unit': 'RPM',\n",
       " 'range': {'min': 0.0, 'max': 100.0, 'unit': 'RPM'},\n",
       " 'values': [{'value': 10, 'unit': 'RPM', 'timestamp': 1743868831735},\n",
       "  {'value': 20, 'unit': 'RPM', 'timestamp': 1743868831735},\n",
       "  {'value': 30, 'unit': 'RPM', 'timestamp': 1743868831735},\n",
       "  {'value': 40, 'unit': 'RPM', 'timestamp': 1743868831735},\n",
       "  {'value': 50, 'unit': 'RPM', 'timestamp': 1743868831735},\n",
       "  {'value': 60, 'unit': 'RPM', 'timestamp': 1743868831735},\n",
       "  {'value': 70, 'unit': 'RPM', 'timestamp': 1743868831735},\n",
       "  {'value': 80, 'unit': 'RPM', 'timestamp': 1743868831735},\n",
       "  {'value': 90, 'unit': 'RPM', 'timestamp': 1743868831735},\n",
       "  {'value': 100, 'unit': 'RPM', 'timestamp': 1743868831735}],\n",
       " 'status': 'offline'}"
      ]
     },
     "execution_count": 44,
     "metadata": {},
     "output_type": "execute_result"
    }
   ],
   "source": [
    "response.json()\n"
   ]
  },
  {
   "cell_type": "code",
   "execution_count": null,
   "metadata": {},
   "outputs": [],
   "source": []
  }
 ],
 "metadata": {
  "kernelspec": {
   "display_name": "Python 3",
   "language": "python",
   "name": "python3"
  },
  "language_info": {
   "codemirror_mode": {
    "name": "ipython",
    "version": 3
   },
   "file_extension": ".py",
   "mimetype": "text/x-python",
   "name": "python",
   "nbconvert_exporter": "python",
   "pygments_lexer": "ipython3",
   "version": "3.11.11"
  }
 },
 "nbformat": 4,
 "nbformat_minor": 2
}
