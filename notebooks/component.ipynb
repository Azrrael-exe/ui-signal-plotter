{
 "cells": [
  {
   "cell_type": "code",
   "execution_count": 1,
   "metadata": {},
   "outputs": [],
   "source": [
    "%%capture\n",
    "%load_ext autoreload\n",
    "%autoreload 2"
   ]
  },
  {
   "cell_type": "code",
   "execution_count": 2,
   "metadata": {},
   "outputs": [],
   "source": [
    "import os\n",
    "\n",
    "import warnings\n",
    "from pprint import pprint\n",
    "warnings.filterwarnings('ignore')\n",
    "os.chdir(\"/Users/azrrael/Eafit/ui-signal-plotter\")"
   ]
  },
  {
   "cell_type": "code",
   "execution_count": 3,
   "metadata": {},
   "outputs": [],
   "source": [
    "from src.domain.entities.component import Component, Range, Value\n",
    "from src.domain.value_objects import Unit, DeviceType"
   ]
  },
  {
   "cell_type": "code",
   "execution_count": 4,
   "metadata": {},
   "outputs": [],
   "source": [
    "lm35 = Component(\n",
    "    id=\"lm35\",\n",
    "    name=\"LM35\",\n",
    "    description=\"Sensor de temperatura basado en el integrado LM35\",\n",
    "    type=\"sensor\",\n",
    "    unit=Unit.CELSIUS,\n",
    "    range=Range(min=-276, max=150, unit=Unit.CELSIUS),\n",
    "    config_rules=[],\n",
    "    buffer_size=100,\n",
    ")"
   ]
  },
  {
   "cell_type": "code",
   "execution_count": 5,
   "metadata": {},
   "outputs": [],
   "source": [
    "read = Value(value=10, unit=Unit.CELSIUS)"
   ]
  },
  {
   "cell_type": "code",
   "execution_count": 6,
   "metadata": {},
   "outputs": [],
   "source": [
    "from src.domain.entities.processors import forecast_next_value\n",
    "import numpy as np"
   ]
  },
  {
   "cell_type": "code",
   "execution_count": 7,
   "metadata": {},
   "outputs": [],
   "source": [
    "for i in range(1000):\n",
    "    lm35.add_value(Value(value=float(24*(1+np.sin(i/100))), unit=Unit.CELSIUS))\n"
   ]
  },
  {
   "cell_type": "code",
   "execution_count": 8,
   "metadata": {},
   "outputs": [],
   "source": [
    "from src.infrastructure.repositories.memory import MemoryComponentRepository\n",
    "\n",
    "repository = MemoryComponentRepository()\n",
    "repository.add_component(lm35)"
   ]
  },
  {
   "cell_type": "code",
   "execution_count": 9,
   "metadata": {},
   "outputs": [],
   "source": [
    "fan = Component(\n",
    "    id=\"fan\",\n",
    "    name=\"Fan\",\n",
    "    description=\"Fan\",\n",
    "    type=DeviceType.ACTUATOR,\n",
    "    unit=Unit.RPM,\n",
    "    config_rules=[],\n",
    "    range=Range(min=0, max=10000, unit=Unit.RPM),\n",
    ")"
   ]
  },
  {
   "cell_type": "code",
   "execution_count": 10,
   "metadata": {},
   "outputs": [],
   "source": [
    "repository.add_component(fan)"
   ]
  },
  {
   "cell_type": "code",
   "execution_count": 13,
   "metadata": {},
   "outputs": [
    {
     "data": {
      "text/plain": [
       "Value(value=np.float64(5.29735503176887), unit=<Unit.RPM: 'RPM'>, timestamp=1743265713435)"
      ]
     },
     "execution_count": 13,
     "metadata": {},
     "output_type": "execute_result"
    }
   ],
   "source": [
    "from src.application.use_cases import control_component_use_case, add_value_use_case\n",
    "\n",
    "control_component_use_case(\n",
    "    source_componet_id=\"lm35\",\n",
    "    target_componet_id=\"fan\",\n",
    "    repository=repository,\n",
    ")\n",
    "\n"
   ]
  },
  {
   "cell_type": "code",
   "execution_count": 19,
   "metadata": {},
   "outputs": [],
   "source": [
    "add_value_use_case(\n",
    "    component_id=\"fan\",\n",
    "    values=[i for i in range(100)],\n",
    "    repository=repository,\n",
    ")\n"
   ]
  },
  {
   "cell_type": "code",
   "execution_count": null,
   "metadata": {},
   "outputs": [],
   "source": [
    "repository.get_component_by_id(\"fan\").get_values()"
   ]
  }
 ],
 "metadata": {
  "kernelspec": {
   "display_name": "Python 3",
   "language": "python",
   "name": "python3"
  },
  "language_info": {
   "codemirror_mode": {
    "name": "ipython",
    "version": 3
   },
   "file_extension": ".py",
   "mimetype": "text/x-python",
   "name": "python",
   "nbconvert_exporter": "python",
   "pygments_lexer": "ipython3",
   "version": "3.11.11"
  }
 },
 "nbformat": 4,
 "nbformat_minor": 2
}
