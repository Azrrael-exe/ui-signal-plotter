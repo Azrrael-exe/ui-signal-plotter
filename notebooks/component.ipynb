{
 "cells": [
  {
   "cell_type": "code",
   "execution_count": 1,
   "metadata": {},
   "outputs": [],
   "source": [
    "%%capture\n",
    "%load_ext autoreload\n",
    "%autoreload 2"
   ]
  },
  {
   "cell_type": "code",
   "execution_count": 2,
   "metadata": {},
   "outputs": [],
   "source": [
    "import os\n",
    "\n",
    "import warnings\n",
    "from pprint import pprint\n",
    "warnings.filterwarnings('ignore')\n",
    "os.chdir(\"/Users/azrrael/Eafit/ui-signal-plotter\")"
   ]
  },
  {
   "cell_type": "code",
   "execution_count": 3,
   "metadata": {},
   "outputs": [],
   "source": [
    "from src.domain.entities.component import Component, Range, Value\n",
    "from src.domain.value_objects import Unit, DeviceType"
   ]
  },
  {
   "cell_type": "code",
   "execution_count": 4,
   "metadata": {},
   "outputs": [],
   "source": [
    "lm35 = Component(\n",
    "    id=\"lm35\",\n",
    "    name=\"LM35\",\n",
    "    description=\"Sensor de temperatura basado en el integrado LM35\",\n",
    "    type=\"sensor\",\n",
    "    unit=Unit.CELSIUS,\n",
    "    range=Range(min=-276, max=150, unit=Unit.CELSIUS),\n",
    "    config_rules=[],\n",
    "    buffer_size=100,\n",
    ")"
   ]
  },
  {
   "cell_type": "code",
   "execution_count": 5,
   "metadata": {},
   "outputs": [],
   "source": [
    "read = Value(value=10, unit=Unit.CELSIUS)"
   ]
  },
  {
   "cell_type": "code",
   "execution_count": 6,
   "metadata": {},
   "outputs": [],
   "source": [
    "from src.domain.entities.processors import forecast_next_value\n",
    "import numpy as np"
   ]
  },
  {
   "cell_type": "code",
   "execution_count": 7,
   "metadata": {},
   "outputs": [],
   "source": [
    "for i in range(1000):\n",
    "    lm35.add_value(Value(value=float(24*(1+np.sin(i/100))), unit=Unit.CELSIUS))\n"
   ]
  },
  {
   "cell_type": "code",
   "execution_count": 8,
   "metadata": {},
   "outputs": [],
   "source": [
    "from src.infrastructure.repositories.memory import MemoryComponentRepository\n",
    "\n",
    "repository = MemoryComponentRepository()\n",
    "repository.add_component(lm35)"
   ]
  },
  {
   "cell_type": "code",
   "execution_count": 9,
   "metadata": {},
   "outputs": [],
   "source": [
    "fan = Component(\n",
    "    id=\"fan\",\n",
    "    name=\"Fan\",\n",
    "    description=\"Fan\",\n",
    "    type=DeviceType.ACTUATOR,\n",
    "    unit=Unit.RPM,\n",
    "    config_rules=[],\n",
    "    range=Range(min=0, max=10000, unit=Unit.RPM),\n",
    ")"
   ]
  },
  {
   "cell_type": "code",
   "execution_count": 10,
   "metadata": {},
   "outputs": [],
   "source": [
    "repository.add_component(fan)"
   ]
  },
  {
   "cell_type": "code",
   "execution_count": 11,
   "metadata": {},
   "outputs": [
    {
     "data": {
      "text/plain": [
       "Value(value=np.float64(5.29735503176887), unit=<Unit.RPM: 'RPM'>, timestamp=1743855426007)"
      ]
     },
     "execution_count": 11,
     "metadata": {},
     "output_type": "execute_result"
    }
   ],
   "source": [
    "from src.application.use_cases import control_component_use_case, add_value_use_case\n",
    "\n",
    "control_component_use_case(\n",
    "    source_componet_id=\"lm35\",\n",
    "    target_componet_id=\"fan\",\n",
    "    repository=repository,\n",
    ")\n",
    "\n"
   ]
  },
  {
   "cell_type": "code",
   "execution_count": 12,
   "metadata": {},
   "outputs": [],
   "source": [
    "add_value_use_case(\n",
    "    component_id=\"fan\",\n",
    "    values=[i for i in range(100)],\n",
    "    repository=repository,\n",
    ")\n"
   ]
  },
  {
   "cell_type": "code",
   "execution_count": 13,
   "metadata": {},
   "outputs": [
    {
     "data": {
      "text/plain": [
       "[Value(value=0, unit=<Unit.RPM: 'RPM'>, timestamp=1743855426026),\n",
       " Value(value=1, unit=<Unit.RPM: 'RPM'>, timestamp=1743855426026),\n",
       " Value(value=2, unit=<Unit.RPM: 'RPM'>, timestamp=1743855426026),\n",
       " Value(value=3, unit=<Unit.RPM: 'RPM'>, timestamp=1743855426026),\n",
       " Value(value=4, unit=<Unit.RPM: 'RPM'>, timestamp=1743855426026),\n",
       " Value(value=5, unit=<Unit.RPM: 'RPM'>, timestamp=1743855426026),\n",
       " Value(value=6, unit=<Unit.RPM: 'RPM'>, timestamp=1743855426026),\n",
       " Value(value=7, unit=<Unit.RPM: 'RPM'>, timestamp=1743855426026),\n",
       " Value(value=8, unit=<Unit.RPM: 'RPM'>, timestamp=1743855426026),\n",
       " Value(value=9, unit=<Unit.RPM: 'RPM'>, timestamp=1743855426026),\n",
       " Value(value=10, unit=<Unit.RPM: 'RPM'>, timestamp=1743855426026),\n",
       " Value(value=11, unit=<Unit.RPM: 'RPM'>, timestamp=1743855426026),\n",
       " Value(value=12, unit=<Unit.RPM: 'RPM'>, timestamp=1743855426026),\n",
       " Value(value=13, unit=<Unit.RPM: 'RPM'>, timestamp=1743855426026),\n",
       " Value(value=14, unit=<Unit.RPM: 'RPM'>, timestamp=1743855426026),\n",
       " Value(value=15, unit=<Unit.RPM: 'RPM'>, timestamp=1743855426026),\n",
       " Value(value=16, unit=<Unit.RPM: 'RPM'>, timestamp=1743855426026),\n",
       " Value(value=17, unit=<Unit.RPM: 'RPM'>, timestamp=1743855426026),\n",
       " Value(value=18, unit=<Unit.RPM: 'RPM'>, timestamp=1743855426026),\n",
       " Value(value=19, unit=<Unit.RPM: 'RPM'>, timestamp=1743855426026),\n",
       " Value(value=20, unit=<Unit.RPM: 'RPM'>, timestamp=1743855426026),\n",
       " Value(value=21, unit=<Unit.RPM: 'RPM'>, timestamp=1743855426026),\n",
       " Value(value=22, unit=<Unit.RPM: 'RPM'>, timestamp=1743855426026),\n",
       " Value(value=23, unit=<Unit.RPM: 'RPM'>, timestamp=1743855426026),\n",
       " Value(value=24, unit=<Unit.RPM: 'RPM'>, timestamp=1743855426026),\n",
       " Value(value=25, unit=<Unit.RPM: 'RPM'>, timestamp=1743855426026),\n",
       " Value(value=26, unit=<Unit.RPM: 'RPM'>, timestamp=1743855426026),\n",
       " Value(value=27, unit=<Unit.RPM: 'RPM'>, timestamp=1743855426026),\n",
       " Value(value=28, unit=<Unit.RPM: 'RPM'>, timestamp=1743855426026),\n",
       " Value(value=29, unit=<Unit.RPM: 'RPM'>, timestamp=1743855426026),\n",
       " Value(value=30, unit=<Unit.RPM: 'RPM'>, timestamp=1743855426026),\n",
       " Value(value=31, unit=<Unit.RPM: 'RPM'>, timestamp=1743855426026),\n",
       " Value(value=32, unit=<Unit.RPM: 'RPM'>, timestamp=1743855426026),\n",
       " Value(value=33, unit=<Unit.RPM: 'RPM'>, timestamp=1743855426026),\n",
       " Value(value=34, unit=<Unit.RPM: 'RPM'>, timestamp=1743855426026),\n",
       " Value(value=35, unit=<Unit.RPM: 'RPM'>, timestamp=1743855426026),\n",
       " Value(value=36, unit=<Unit.RPM: 'RPM'>, timestamp=1743855426026),\n",
       " Value(value=37, unit=<Unit.RPM: 'RPM'>, timestamp=1743855426026),\n",
       " Value(value=38, unit=<Unit.RPM: 'RPM'>, timestamp=1743855426026),\n",
       " Value(value=39, unit=<Unit.RPM: 'RPM'>, timestamp=1743855426026),\n",
       " Value(value=40, unit=<Unit.RPM: 'RPM'>, timestamp=1743855426026),\n",
       " Value(value=41, unit=<Unit.RPM: 'RPM'>, timestamp=1743855426026),\n",
       " Value(value=42, unit=<Unit.RPM: 'RPM'>, timestamp=1743855426026),\n",
       " Value(value=43, unit=<Unit.RPM: 'RPM'>, timestamp=1743855426026),\n",
       " Value(value=44, unit=<Unit.RPM: 'RPM'>, timestamp=1743855426026),\n",
       " Value(value=45, unit=<Unit.RPM: 'RPM'>, timestamp=1743855426026),\n",
       " Value(value=46, unit=<Unit.RPM: 'RPM'>, timestamp=1743855426026),\n",
       " Value(value=47, unit=<Unit.RPM: 'RPM'>, timestamp=1743855426026),\n",
       " Value(value=48, unit=<Unit.RPM: 'RPM'>, timestamp=1743855426026),\n",
       " Value(value=49, unit=<Unit.RPM: 'RPM'>, timestamp=1743855426026),\n",
       " Value(value=50, unit=<Unit.RPM: 'RPM'>, timestamp=1743855426026),\n",
       " Value(value=51, unit=<Unit.RPM: 'RPM'>, timestamp=1743855426026),\n",
       " Value(value=52, unit=<Unit.RPM: 'RPM'>, timestamp=1743855426026),\n",
       " Value(value=53, unit=<Unit.RPM: 'RPM'>, timestamp=1743855426026),\n",
       " Value(value=54, unit=<Unit.RPM: 'RPM'>, timestamp=1743855426026),\n",
       " Value(value=55, unit=<Unit.RPM: 'RPM'>, timestamp=1743855426026),\n",
       " Value(value=56, unit=<Unit.RPM: 'RPM'>, timestamp=1743855426026),\n",
       " Value(value=57, unit=<Unit.RPM: 'RPM'>, timestamp=1743855426026),\n",
       " Value(value=58, unit=<Unit.RPM: 'RPM'>, timestamp=1743855426026),\n",
       " Value(value=59, unit=<Unit.RPM: 'RPM'>, timestamp=1743855426026),\n",
       " Value(value=60, unit=<Unit.RPM: 'RPM'>, timestamp=1743855426026),\n",
       " Value(value=61, unit=<Unit.RPM: 'RPM'>, timestamp=1743855426026),\n",
       " Value(value=62, unit=<Unit.RPM: 'RPM'>, timestamp=1743855426026),\n",
       " Value(value=63, unit=<Unit.RPM: 'RPM'>, timestamp=1743855426026),\n",
       " Value(value=64, unit=<Unit.RPM: 'RPM'>, timestamp=1743855426026),\n",
       " Value(value=65, unit=<Unit.RPM: 'RPM'>, timestamp=1743855426026),\n",
       " Value(value=66, unit=<Unit.RPM: 'RPM'>, timestamp=1743855426026),\n",
       " Value(value=67, unit=<Unit.RPM: 'RPM'>, timestamp=1743855426026),\n",
       " Value(value=68, unit=<Unit.RPM: 'RPM'>, timestamp=1743855426026),\n",
       " Value(value=69, unit=<Unit.RPM: 'RPM'>, timestamp=1743855426026),\n",
       " Value(value=70, unit=<Unit.RPM: 'RPM'>, timestamp=1743855426026),\n",
       " Value(value=71, unit=<Unit.RPM: 'RPM'>, timestamp=1743855426026),\n",
       " Value(value=72, unit=<Unit.RPM: 'RPM'>, timestamp=1743855426026),\n",
       " Value(value=73, unit=<Unit.RPM: 'RPM'>, timestamp=1743855426026),\n",
       " Value(value=74, unit=<Unit.RPM: 'RPM'>, timestamp=1743855426026),\n",
       " Value(value=75, unit=<Unit.RPM: 'RPM'>, timestamp=1743855426026),\n",
       " Value(value=76, unit=<Unit.RPM: 'RPM'>, timestamp=1743855426026),\n",
       " Value(value=77, unit=<Unit.RPM: 'RPM'>, timestamp=1743855426026),\n",
       " Value(value=78, unit=<Unit.RPM: 'RPM'>, timestamp=1743855426026),\n",
       " Value(value=79, unit=<Unit.RPM: 'RPM'>, timestamp=1743855426026),\n",
       " Value(value=80, unit=<Unit.RPM: 'RPM'>, timestamp=1743855426026),\n",
       " Value(value=81, unit=<Unit.RPM: 'RPM'>, timestamp=1743855426026),\n",
       " Value(value=82, unit=<Unit.RPM: 'RPM'>, timestamp=1743855426026),\n",
       " Value(value=83, unit=<Unit.RPM: 'RPM'>, timestamp=1743855426026),\n",
       " Value(value=84, unit=<Unit.RPM: 'RPM'>, timestamp=1743855426026),\n",
       " Value(value=85, unit=<Unit.RPM: 'RPM'>, timestamp=1743855426026),\n",
       " Value(value=86, unit=<Unit.RPM: 'RPM'>, timestamp=1743855426026),\n",
       " Value(value=87, unit=<Unit.RPM: 'RPM'>, timestamp=1743855426026),\n",
       " Value(value=88, unit=<Unit.RPM: 'RPM'>, timestamp=1743855426026),\n",
       " Value(value=89, unit=<Unit.RPM: 'RPM'>, timestamp=1743855426026),\n",
       " Value(value=90, unit=<Unit.RPM: 'RPM'>, timestamp=1743855426026),\n",
       " Value(value=91, unit=<Unit.RPM: 'RPM'>, timestamp=1743855426026),\n",
       " Value(value=92, unit=<Unit.RPM: 'RPM'>, timestamp=1743855426026),\n",
       " Value(value=93, unit=<Unit.RPM: 'RPM'>, timestamp=1743855426026),\n",
       " Value(value=94, unit=<Unit.RPM: 'RPM'>, timestamp=1743855426026),\n",
       " Value(value=95, unit=<Unit.RPM: 'RPM'>, timestamp=1743855426026),\n",
       " Value(value=96, unit=<Unit.RPM: 'RPM'>, timestamp=1743855426026),\n",
       " Value(value=97, unit=<Unit.RPM: 'RPM'>, timestamp=1743855426026),\n",
       " Value(value=98, unit=<Unit.RPM: 'RPM'>, timestamp=1743855426026),\n",
       " Value(value=99, unit=<Unit.RPM: 'RPM'>, timestamp=1743855426026)]"
      ]
     },
     "execution_count": 13,
     "metadata": {},
     "output_type": "execute_result"
    }
   ],
   "source": [
    "repository.get_component_by_id(\"fan\").get_values()"
   ]
  }
 ],
 "metadata": {
  "kernelspec": {
   "display_name": "Python 3",
   "language": "python",
   "name": "python3"
  },
  "language_info": {
   "codemirror_mode": {
    "name": "ipython",
    "version": 3
   },
   "file_extension": ".py",
   "mimetype": "text/x-python",
   "name": "python",
   "nbconvert_exporter": "python",
   "pygments_lexer": "ipython3",
   "version": "3.11.11"
  }
 },
 "nbformat": 4,
 "nbformat_minor": 2
}
